{
 "cells": [
  {
   "cell_type": "code",
   "execution_count": 2,
   "metadata": {},
   "outputs": [],
   "source": [
    "\"\"\"\n",
    "Data Augmentation\n",
    "\"\"\"\n",
    "\n",
    "#Import the ImageDataGenerator library\n",
    "\n",
    "from tensorflow.keras.preprocessing.image import ImageDataGenerator"
   ]
  },
  {
   "cell_type": "code",
   "execution_count": 3,
   "metadata": {},
   "outputs": [],
   "source": [
    "\"\"\"\n",
    "Configure ImageDataGenerator class\n",
    "\"\"\"\n",
    "\n",
    "#Train_set configuration...\n",
    "\n",
    "train_datagen = ImageDataGenerator(rescale=1./255,\n",
    "                                   zoom_range=0.2,\n",
    "                                   horizontal_flip=True)"
   ]
  },
  {
   "cell_type": "code",
   "execution_count": 4,
   "metadata": {},
   "outputs": [],
   "source": [
    "#Test_set configuration...\n",
    "\n",
    "test_datagen = ImageDataGenerator(rescale=1./255)"
   ]
  },
  {
   "cell_type": "code",
   "execution_count": 5,
   "metadata": {},
   "outputs": [
    {
     "name": "stdout",
     "output_type": "stream",
     "text": [
      "Found 826 images belonging to 4 classes.\n"
     ]
    }
   ],
   "source": [
    "\"\"\"\n",
    "Applying ImageDataGenerator functionality\n",
    "\"\"\"\n",
    "\n",
    "#Train_set \n",
    "xtrain = train_datagen.flow_from_directory('F:/Workspace/IBM/Natural Disaster Intensity Analysis and Classification/dataset/train_set',\n",
    "                                        target_size=(64,64),\n",
    "                                        class_mode='categorical',\n",
    "                                        batch_size=100)"
   ]
  },
  {
   "cell_type": "code",
   "execution_count": 6,
   "metadata": {},
   "outputs": [
    {
     "name": "stdout",
     "output_type": "stream",
     "text": [
      "Found 189 images belonging to 4 classes.\n"
     ]
    }
   ],
   "source": [
    "#Test_set\n",
    "\n",
    "xtest = test_datagen.flow_from_directory('F:/Workspace/IBM/Natural Disaster Intensity Analysis and Classification/dataset/test_set',\n",
    "                                        target_size=(64,64),\n",
    "                                        class_mode='categorical',\n",
    "                                        batch_size=100)"
   ]
  },
  {
   "cell_type": "code",
   "execution_count": 7,
   "metadata": {},
   "outputs": [],
   "source": [
    "\"\"\"\n",
    "CNN model\n",
    "\"\"\"\n",
    "\n",
    "#Importing the required library\n",
    "\n",
    "from tensorflow.keras.models import Sequential\n",
    "from tensorflow.keras.layers import Convolution2D,MaxPooling2D,Flatten,Dense"
   ]
  },
  {
   "cell_type": "code",
   "execution_count": 8,
   "metadata": {},
   "outputs": [],
   "source": [
    "#Initializing the model\n",
    "\n",
    "model = Sequential()\n",
    "\n",
    "\"\"\"\n",
    "CNN layers\n",
    "\"\"\"\n",
    "#Convolutional layer\n",
    "model.add(Convolution2D(32,(3,3),activation='relu',input_shape=(64,64,3)))\n",
    "#Pooling layer\n",
    "model.add(MaxPooling2D(pool_size=(2,2)))\n",
    "#Flatten layer\n",
    "model.add(Flatten())\n",
    "#Hidden layers\n",
    "model.add(Dense(300,activation='relu'))\n",
    "model.add(Dense(150,activation='relu'))\n",
    "model.add(Dense(4,activation='softmax'))"
   ]
  },
  {
   "cell_type": "code",
   "execution_count": 9,
   "metadata": {},
   "outputs": [],
   "source": [
    "#Compiling the model\n",
    "\n",
    "model.compile(optimizer='adam',loss='categorical_crossentropy',metrics=['accuracy'])"
   ]
  },
  {
   "cell_type": "code",
   "execution_count": 10,
   "metadata": {},
   "outputs": [
    {
     "name": "stdout",
     "output_type": "stream",
     "text": [
      "Epoch 1/20\n",
      "9/9 [==============================] - 19s 2s/step - loss: 2.6117 - accuracy: 0.3039 - val_loss: 1.6597 - val_accuracy: 0.4180\n",
      "Epoch 2/20\n",
      "9/9 [==============================] - 15s 2s/step - loss: 1.3349 - accuracy: 0.4879 - val_loss: 1.2720 - val_accuracy: 0.4233\n",
      "Epoch 3/20\n",
      "9/9 [==============================] - 15s 2s/step - loss: 1.0784 - accuracy: 0.5157 - val_loss: 1.0456 - val_accuracy: 0.5979\n",
      "Epoch 4/20\n",
      "9/9 [==============================] - 14s 2s/step - loss: 0.9051 - accuracy: 0.6586 - val_loss: 0.9277 - val_accuracy: 0.6508\n",
      "Epoch 5/20\n",
      "9/9 [==============================] - 15s 2s/step - loss: 0.7803 - accuracy: 0.6998 - val_loss: 1.0204 - val_accuracy: 0.5767\n",
      "Epoch 6/20\n",
      "9/9 [==============================] - 15s 2s/step - loss: 0.7399 - accuracy: 0.7094 - val_loss: 0.9613 - val_accuracy: 0.6614\n",
      "Epoch 7/20\n",
      "9/9 [==============================] - 15s 2s/step - loss: 0.6644 - accuracy: 0.7373 - val_loss: 0.7862 - val_accuracy: 0.7037\n",
      "Epoch 8/20\n",
      "9/9 [==============================] - 15s 2s/step - loss: 0.6033 - accuracy: 0.7651 - val_loss: 0.6582 - val_accuracy: 0.7513\n",
      "Epoch 9/20\n",
      "9/9 [==============================] - 15s 2s/step - loss: 0.5971 - accuracy: 0.7736 - val_loss: 0.8218 - val_accuracy: 0.7460\n",
      "Epoch 10/20\n",
      "9/9 [==============================] - 15s 2s/step - loss: 0.5606 - accuracy: 0.7930 - val_loss: 0.6461 - val_accuracy: 0.7884\n",
      "Epoch 11/20\n",
      "9/9 [==============================] - 14s 2s/step - loss: 0.5088 - accuracy: 0.8099 - val_loss: 0.6139 - val_accuracy: 0.7989\n",
      "Epoch 12/20\n",
      "9/9 [==============================] - 15s 2s/step - loss: 0.5025 - accuracy: 0.8245 - val_loss: 0.6119 - val_accuracy: 0.7937\n",
      "Epoch 13/20\n",
      "9/9 [==============================] - 15s 2s/step - loss: 0.4861 - accuracy: 0.8184 - val_loss: 0.6143 - val_accuracy: 0.7725\n",
      "Epoch 14/20\n",
      "9/9 [==============================] - 15s 2s/step - loss: 0.4601 - accuracy: 0.8329 - val_loss: 0.5950 - val_accuracy: 0.8095\n",
      "Epoch 15/20\n",
      "9/9 [==============================] - 15s 2s/step - loss: 0.4353 - accuracy: 0.8547 - val_loss: 0.6486 - val_accuracy: 0.7725\n",
      "Epoch 16/20\n",
      "9/9 [==============================] - 15s 2s/step - loss: 0.4030 - accuracy: 0.8571 - val_loss: 0.6338 - val_accuracy: 0.7937\n",
      "Epoch 17/20\n",
      "9/9 [==============================] - 15s 2s/step - loss: 0.4151 - accuracy: 0.8281 - val_loss: 0.6830 - val_accuracy: 0.7725\n",
      "Epoch 18/20\n",
      "9/9 [==============================] - 15s 2s/step - loss: 0.4145 - accuracy: 0.8426 - val_loss: 0.4591 - val_accuracy: 0.8201\n",
      "Epoch 19/20\n",
      "9/9 [==============================] - 15s 2s/step - loss: 0.3947 - accuracy: 0.8705 - val_loss: 0.4231 - val_accuracy: 0.8519\n",
      "Epoch 20/20\n",
      "9/9 [==============================] - 14s 2s/step - loss: 0.3428 - accuracy: 0.8814 - val_loss: 0.4664 - val_accuracy: 0.8519\n"
     ]
    },
    {
     "data": {
      "text/plain": [
       "<keras.callbacks.History at 0x2a023430dc0>"
      ]
     },
     "execution_count": 10,
     "metadata": {},
     "output_type": "execute_result"
    }
   ],
   "source": [
    "#Training the model\n",
    "\n",
    "model.fit(xtrain,\n",
    "        steps_per_epoch=len(xtrain),\n",
    "        epochs=20,\n",
    "        validation_data=xtest,\n",
    "        validation_steps=len(xtest))"
   ]
  },
  {
   "cell_type": "code",
   "execution_count": 11,
   "metadata": {},
   "outputs": [],
   "source": [
    "#Saving the model in Hierarchical Data Format\n",
    "\n",
    "model.save('disaster.h5')"
   ]
  },
  {
   "cell_type": "code",
   "execution_count": 12,
   "metadata": {},
   "outputs": [
    {
     "name": "stdout",
     "output_type": "stream",
     "text": [
      "1/1 [==============================] - 0s 118ms/step\n",
      "1/1 [==============================] - 0s 29ms/step\n",
      "0\n",
      "Cyclone\n"
     ]
    }
   ],
   "source": [
    "#Testing the model\n",
    "\n",
    "#Importing required libraries\n",
    "from tensorflow.keras.preprocessing import image\n",
    "import numpy as np\n",
    "\n",
    "img = image.load_img(\"F:/Workspace/IBM/Natural Disaster Intensity Analysis and Classification/dataset/test_set/Cyclone/927.jpg\", target_size=(64,64))\n",
    "x = image.img_to_array(img)\n",
    "x = np.expand_dims(x,axis=0)\n",
    "model.predict(x)\n",
    "pred = np.argmax(model.predict(x))\n",
    "op = ['Cyclone', 'Earthquake', 'Flood', 'Wildfire']\n",
    "\n",
    "print(pred)\n",
    "print(op[pred])"
   ]
  },
  {
   "cell_type": "code",
   "execution_count": null,
   "metadata": {},
   "outputs": [],
   "source": []
  }
 ],
 "metadata": {
  "kernelspec": {
   "display_name": "Python 3.10.2 64-bit",
   "language": "python",
   "name": "python3"
  },
  "language_info": {
   "codemirror_mode": {
    "name": "ipython",
    "version": 3
   },
   "file_extension": ".py",
   "mimetype": "text/x-python",
   "name": "python",
   "nbconvert_exporter": "python",
   "pygments_lexer": "ipython3",
   "version": "3.10.2"
  },
  "orig_nbformat": 4,
  "vscode": {
   "interpreter": {
    "hash": "a0329d1e859fdaae7091121e22fb799195311d986a530316c2954a05cd641814"
   }
  }
 },
 "nbformat": 4,
 "nbformat_minor": 2
}
